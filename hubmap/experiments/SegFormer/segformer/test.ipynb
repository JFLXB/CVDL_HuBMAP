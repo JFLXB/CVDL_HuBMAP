{
 "cells": [
  {
   "cell_type": "code",
   "execution_count": 1,
   "metadata": {},
   "outputs": [],
   "source": [
    "%load_ext autoreload\n",
    "%autoreload 2"
   ]
  },
  {
   "cell_type": "code",
   "execution_count": 2,
   "metadata": {},
   "outputs": [],
   "source": [
    "import sys\n",
    "sys.path.append(\"../../../dataset/\")\n",
    "import torch\n",
    "from torch.utils.data import DataLoader\n",
    "import stats\n",
    "from datasets import TrainDataset, TestDataset, ValDataset\n",
    "import transforms as tran\n",
    "from transformers import SegformerForSemanticSegmentation"
   ]
  },
  {
   "cell_type": "code",
   "execution_count": 3,
   "metadata": {},
   "outputs": [],
   "source": [
    "path_to_results = '../models/segformer/results/'\n",
    "device = torch.device(\"cuda:0\" if torch.cuda.is_available() else \"cpu\")\n",
    "metrics = [stats.Precision(), stats.Recall(), stats.F2(), stats.DiceScore(), stats.Jac(), stats.Acc(), stats.Confidence(), stats.F1()]"
   ]
  },
  {
   "cell_type": "code",
   "execution_count": 4,
   "metadata": {},
   "outputs": [],
   "source": [
    "train_for_cal = TrainDataset('../../../data/', transform=tran.ToTensor())\n",
    "psum    = torch.tensor([0.0, 0.0, 0.0])\n",
    "psum_sq = torch.tensor([0.0, 0.0, 0.0])\n",
    "count = len(train_for_cal) * 512 * 512\n",
    "loader_for_cal = DataLoader(train_for_cal, batch_size=32, shuffle=False)\n",
    "\n",
    "for inputs, mask in loader_for_cal:\n",
    "    psum    += inputs.sum(axis        = [0, 2, 3])\n",
    "    psum_sq += (inputs ** 2).sum(axis = [0, 2, 3])\n",
    "\n",
    "total_mean = psum / count\n",
    "total_var  = (psum_sq / count) - (total_mean ** 2)\n",
    "total_std  = torch.sqrt(total_var)\n",
    "\n",
    "t_ms = tran.Compose([\n",
    "        tran.ToTensor(),\n",
    "        tran.Normalize(total_mean, total_std)\n",
    "    ])"
   ]
  },
  {
   "cell_type": "code",
   "execution_count": 5,
   "metadata": {},
   "outputs": [],
   "source": [
    "def eval_model(pretrain, name, epoch, t):\n",
    "    model = SegformerForSemanticSegmentation.from_pretrained(\n",
    "        f\"nvidia/{pretrain}\", \n",
    "        num_labels=4,\n",
    "    ).to(device)\n",
    "\n",
    "    model.load_state_dict(state_dict=torch.load(f'{path_to_results}/{pretrain}_{name}/model_epoch_{epoch}.pth'))\n",
    "    val = TestDataset('../data/', transform=t, with_background=True)\n",
    "    val_loader = DataLoader(val, batch_size=1, shuffle=False)\n",
    "    res = stats.calculate_statistics(model, device, val, val_loader, metrics)\n",
    "    stats.print_statistics(res, metrics, f'{pretrain}_{name}')"
   ]
  },
  {
   "cell_type": "code",
   "execution_count": 6,
   "metadata": {},
   "outputs": [
    {
     "name": "stderr",
     "output_type": "stream",
     "text": [
      "Some weights of SegformerForSemanticSegmentation were not initialized from the model checkpoint at nvidia/mit-b2 and are newly initialized: ['decode_head.linear_c.0.proj.bias', 'decode_head.linear_c.3.proj.weight', 'decode_head.linear_c.1.proj.bias', 'decode_head.batch_norm.bias', 'decode_head.linear_c.0.proj.weight', 'decode_head.linear_fuse.weight', 'decode_head.linear_c.3.proj.bias', 'decode_head.batch_norm.weight', 'decode_head.classifier.bias', 'decode_head.batch_norm.num_batches_tracked', 'decode_head.linear_c.2.proj.bias', 'decode_head.batch_norm.running_mean', 'decode_head.classifier.weight', 'decode_head.linear_c.2.proj.weight', 'decode_head.batch_norm.running_var', 'decode_head.linear_c.1.proj.weight']\n",
      "You should probably TRAIN this model on a down-stream task to be able to use it for predictions and inference.\n"
     ]
    },
    {
     "name": "stdout",
     "output_type": "stream",
     "text": [
      "torch.Size([163, 8])\n",
      "-----------------------------------\n",
      "mit-b2_aug_flip_0.0001\n",
      "8\n",
      "\tPrecision: 0.7012% | ± 0.1926 (std) | ± 0.0371 (var)\n",
      "\tRecall: 0.7449% | ± 0.2073 (std) | ± 0.0430 (var)\n",
      "\tF2: 0.7034% | ± 0.2008 (std) | ± 0.0403 (var)\n",
      "\tDiceScore: 0.6821% | ± 0.1908 (std) | ± 0.0364 (var)\n",
      "\tJac: 0.5452% | ± 0.1959 (std) | ± 0.0384 (var)\n",
      "\tAcc: 0.9631% | ± 0.0393 (std) | ± 0.0015 (var)\n",
      "\tConfidence: 0.9568% | ± 0.0230 (std) | ± 0.0005 (var)\n",
      "\tF1: 0.6821% | ± 0.1908 (std) | ± 0.0364 (var)\n",
      "-----------------------------------\n"
     ]
    },
    {
     "name": "stderr",
     "output_type": "stream",
     "text": [
      "Some weights of SegformerForSemanticSegmentation were not initialized from the model checkpoint at nvidia/mit-b2 and are newly initialized: ['decode_head.linear_c.0.proj.bias', 'decode_head.linear_c.3.proj.weight', 'decode_head.linear_c.1.proj.bias', 'decode_head.batch_norm.bias', 'decode_head.linear_c.0.proj.weight', 'decode_head.linear_fuse.weight', 'decode_head.linear_c.3.proj.bias', 'decode_head.batch_norm.weight', 'decode_head.classifier.bias', 'decode_head.batch_norm.num_batches_tracked', 'decode_head.linear_c.2.proj.bias', 'decode_head.batch_norm.running_mean', 'decode_head.classifier.weight', 'decode_head.linear_c.2.proj.weight', 'decode_head.batch_norm.running_var', 'decode_head.linear_c.1.proj.weight']\n",
      "You should probably TRAIN this model on a down-stream task to be able to use it for predictions and inference.\n"
     ]
    },
    {
     "data": {
      "text/plain": [
       "<All keys matched successfully>"
      ]
     },
     "execution_count": 6,
     "metadata": {},
     "output_type": "execute_result"
    }
   ],
   "source": [
    "eval_model('mit-b2', 'aug_flip_0.0001', \"16\" , t_ms)\n",
    "\n",
    "model = SegformerForSemanticSegmentation.from_pretrained(\n",
    "        f\"nvidia/mit-b2\", \n",
    "        num_labels=4,\n",
    "    ).to(device)\n",
    "model.load_state_dict(state_dict=torch.load(f'{path_to_results}/mit-b2_aug_flip_0.0001/model_epoch_16.pth'))\n"
   ]
  }
 ],
 "metadata": {
  "kernelspec": {
   "display_name": "Python 3",
   "language": "python",
   "name": "python3"
  },
  "language_info": {
   "codemirror_mode": {
    "name": "ipython",
    "version": 3
   },
   "file_extension": ".py",
   "mimetype": "text/x-python",
   "name": "python",
   "nbconvert_exporter": "python",
   "pygments_lexer": "ipython3",
   "version": "3.10.12"
  },
  "orig_nbformat": 4
 },
 "nbformat": 4,
 "nbformat_minor": 2
}
