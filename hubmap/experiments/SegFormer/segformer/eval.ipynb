{
 "cells": [
  {
   "cell_type": "code",
   "execution_count": 2,
   "metadata": {},
   "outputs": [
    {
     "name": "stderr",
     "output_type": "stream",
     "text": [
      "/home/ziereis/.local/lib/python3.10/site-packages/tqdm/auto.py:21: TqdmWarning: IProgress not found. Please update jupyter and ipywidgets. See https://ipywidgets.readthedocs.io/en/stable/user_install.html\n",
      "  from .autonotebook import tqdm as notebook_tqdm\n"
     ]
    }
   ],
   "source": [
    "import sys\n",
    "sys.path.append(\"../../../dataset/\")\n",
    "from datasets import TrainDataset, TestDataset, ValDataset\n",
    "import transforms as tran\n",
    "from torch.utils.data import DataLoader\n",
    "import torch\n",
    "import torch.nn as nn\n",
    "import matplotlib.pyplot as plt\n",
    "from train_segformer import train, visualize_example\n",
    "from transformers import SegformerForSemanticSegmentation\n",
    "import pandas as pd\n",
    "import stats\n",
    "import scienceplots as _\n"
   ]
  },
  {
   "cell_type": "code",
   "execution_count": 4,
   "metadata": {},
   "outputs": [],
   "source": [
    "path_to_results = 'results/'\n",
    "device = torch.device(\"cuda:0\" if torch.cuda.is_available() else \"cpu\")\n",
    "metrics = [stats.Precision(), stats.Recall(), stats.F2(), stats.Jac(), stats.Acc()]\n"
   ]
  },
  {
   "cell_type": "code",
   "execution_count": 6,
   "metadata": {},
   "outputs": [],
   "source": [
    "train_for_cal = TrainDataset('../../../data/', transform=tran.ToTensor())\n",
    "psum    = torch.tensor([0.0, 0.0, 0.0])\n",
    "psum_sq = torch.tensor([0.0, 0.0, 0.0])\n",
    "count = len(train_for_cal) * 512 * 512\n",
    "loader_for_cal = DataLoader(train_for_cal, batch_size=32, shuffle=False)\n",
    "\n",
    "for inputs, mask in loader_for_cal:\n",
    "    psum    += inputs.sum(axis        = [0, 2, 3])\n",
    "    psum_sq += (inputs ** 2).sum(axis = [0, 2, 3])\n",
    "\n",
    "total_mean = psum / count\n",
    "total_var  = (psum_sq / count) - (total_mean ** 2)\n",
    "total_std  = torch.sqrt(total_var)\n",
    "\n",
    "t_ms = tran.Compose([\n",
    "        tran.ToTensor(),\n",
    "        tran.Normalize(total_mean, total_std)\n",
    "    ])"
   ]
  },
  {
   "cell_type": "code",
   "execution_count": 7,
   "metadata": {},
   "outputs": [],
   "source": [
    "losses_train = pd.DataFrame({})\n",
    "losses_test = pd.DataFrame({})\n",
    "iou_train = pd.DataFrame({})\n",
    "iou_test = pd.DataFrame({})"
   ]
  },
  {
   "cell_type": "code",
   "execution_count": 8,
   "metadata": {},
   "outputs": [
    {
     "name": "stderr",
     "output_type": "stream",
     "text": [
      "Some weights of SegformerForSemanticSegmentation were not initialized from the model checkpoint at nvidia/mit-b0 and are newly initialized: ['decode_head.linear_c.3.proj.weight', 'decode_head.linear_c.2.proj.bias', 'decode_head.classifier.bias', 'decode_head.linear_c.1.proj.weight', 'decode_head.linear_c.0.proj.weight', 'decode_head.linear_c.1.proj.bias', 'decode_head.linear_c.3.proj.bias', 'decode_head.batch_norm.num_batches_tracked', 'decode_head.batch_norm.weight', 'decode_head.batch_norm.bias', 'decode_head.batch_norm.running_mean', 'decode_head.classifier.weight', 'decode_head.batch_norm.running_var', 'decode_head.linear_c.0.proj.bias', 'decode_head.linear_fuse.weight', 'decode_head.linear_c.2.proj.weight']\n",
      "You should probably TRAIN this model on a down-stream task to be able to use it for predictions and inference.\n"
     ]
    },
    {
     "name": "stdout",
     "output_type": "stream",
     "text": [
      "torch.Size([244, 5])\n",
      "-----------------------------------\n",
      "mit-b0_norm_base\n",
      "5\n",
      "\tPrecision: 0.7700% | ± 0.2403 (std) | ± 0.0577 (var)\n",
      "\tRecall: 0.4167% | ± 0.2095 (std) | ± 0.0439 (var)\n",
      "\tF2: 0.4431% | ± 0.2068 (std) | ± 0.0428 (var)\n",
      "\tJac: 0.3646% | ± 0.1856 (std) | ± 0.0345 (var)\n",
      "\tAcc: 0.9722% | ± 0.0346 (std) | ± 0.0012 (var)\n",
      "-----------------------------------\n"
     ]
    },
    {
     "name": "stderr",
     "output_type": "stream",
     "text": [
      "Some weights of SegformerForSemanticSegmentation were not initialized from the model checkpoint at nvidia/mit-b0 and are newly initialized: ['decode_head.linear_c.3.proj.weight', 'decode_head.linear_c.2.proj.bias', 'decode_head.classifier.bias', 'decode_head.linear_c.1.proj.weight', 'decode_head.linear_c.0.proj.weight', 'decode_head.linear_c.1.proj.bias', 'decode_head.linear_c.3.proj.bias', 'decode_head.batch_norm.num_batches_tracked', 'decode_head.batch_norm.weight', 'decode_head.batch_norm.bias', 'decode_head.batch_norm.running_mean', 'decode_head.classifier.weight', 'decode_head.batch_norm.running_var', 'decode_head.linear_c.0.proj.bias', 'decode_head.linear_fuse.weight', 'decode_head.linear_c.2.proj.weight']\n",
      "You should probably TRAIN this model on a down-stream task to be able to use it for predictions and inference.\n"
     ]
    },
    {
     "name": "stdout",
     "output_type": "stream",
     "text": [
      "torch.Size([244, 5])\n",
      "-----------------------------------\n",
      "mit-b0_norm_05\n",
      "5\n",
      "\tPrecision: 0.7427% | ± 0.2168 (std) | ± 0.0470 (var)\n",
      "\tRecall: 0.4942% | ± 0.2000 (std) | ± 0.0400 (var)\n",
      "\tF2: 0.5148% | ± 0.1985 (std) | ± 0.0394 (var)\n",
      "\tJac: 0.4163% | ± 0.1772 (std) | ± 0.0314 (var)\n",
      "\tAcc: 0.9749% | ± 0.0266 (std) | ± 0.0007 (var)\n",
      "-----------------------------------\n"
     ]
    },
    {
     "name": "stderr",
     "output_type": "stream",
     "text": [
      "Some weights of SegformerForSemanticSegmentation were not initialized from the model checkpoint at nvidia/mit-b0 and are newly initialized: ['decode_head.linear_c.3.proj.weight', 'decode_head.linear_c.2.proj.bias', 'decode_head.classifier.bias', 'decode_head.linear_c.1.proj.weight', 'decode_head.linear_c.0.proj.weight', 'decode_head.linear_c.1.proj.bias', 'decode_head.linear_c.3.proj.bias', 'decode_head.batch_norm.num_batches_tracked', 'decode_head.batch_norm.weight', 'decode_head.batch_norm.bias', 'decode_head.batch_norm.running_mean', 'decode_head.classifier.weight', 'decode_head.batch_norm.running_var', 'decode_head.linear_c.0.proj.bias', 'decode_head.linear_fuse.weight', 'decode_head.linear_c.2.proj.weight']\n",
      "You should probably TRAIN this model on a down-stream task to be able to use it for predictions and inference.\n"
     ]
    },
    {
     "name": "stdout",
     "output_type": "stream",
     "text": [
      "torch.Size([244, 5])\n",
      "-----------------------------------\n",
      "mit-b0_norm_ms\n",
      "5\n",
      "\tPrecision: 0.7307% | ± 0.2268 (std) | ± 0.0514 (var)\n",
      "\tRecall: 0.4892% | ± 0.2191 (std) | ± 0.0480 (var)\n",
      "\tF2: 0.5048% | ± 0.2103 (std) | ± 0.0442 (var)\n",
      "\tJac: 0.4033% | ± 0.1842 (std) | ± 0.0339 (var)\n",
      "\tAcc: 0.9744% | ± 0.0262 (std) | ± 0.0007 (var)\n",
      "-----------------------------------\n"
     ]
    },
    {
     "name": "stderr",
     "output_type": "stream",
     "text": [
      "Some weights of SegformerForSemanticSegmentation were not initialized from the model checkpoint at nvidia/mit-b1 and are newly initialized: ['decode_head.linear_c.3.proj.weight', 'decode_head.linear_c.2.proj.bias', 'decode_head.classifier.bias', 'decode_head.linear_c.1.proj.weight', 'decode_head.linear_c.0.proj.weight', 'decode_head.linear_c.1.proj.bias', 'decode_head.linear_c.3.proj.bias', 'decode_head.batch_norm.num_batches_tracked', 'decode_head.batch_norm.weight', 'decode_head.batch_norm.bias', 'decode_head.batch_norm.running_mean', 'decode_head.classifier.weight', 'decode_head.batch_norm.running_var', 'decode_head.linear_c.0.proj.bias', 'decode_head.linear_fuse.weight', 'decode_head.linear_c.2.proj.weight']\n",
      "You should probably TRAIN this model on a down-stream task to be able to use it for predictions and inference.\n"
     ]
    },
    {
     "name": "stdout",
     "output_type": "stream",
     "text": [
      "torch.Size([244, 5])\n",
      "-----------------------------------\n",
      "mit-b1_ms_model\n",
      "5\n",
      "\tPrecision: 0.7492% | ± 0.2203 (std) | ± 0.0485 (var)\n",
      "\tRecall: 0.4782% | ± 0.1977 (std) | ± 0.0391 (var)\n",
      "\tF2: 0.4990% | ± 0.1935 (std) | ± 0.0374 (var)\n",
      "\tJac: 0.4027% | ± 0.1745 (std) | ± 0.0304 (var)\n",
      "\tAcc: 0.9748% | ± 0.0263 (std) | ± 0.0007 (var)\n",
      "-----------------------------------\n"
     ]
    },
    {
     "name": "stderr",
     "output_type": "stream",
     "text": [
      "Some weights of SegformerForSemanticSegmentation were not initialized from the model checkpoint at nvidia/mit-b2 and are newly initialized: ['decode_head.linear_c.3.proj.weight', 'decode_head.classifier.bias', 'decode_head.linear_c.1.proj.weight', 'decode_head.linear_c.1.proj.bias', 'decode_head.linear_c.3.proj.bias', 'decode_head.batch_norm.num_batches_tracked', 'decode_head.batch_norm.weight', 'decode_head.batch_norm.bias', 'decode_head.batch_norm.running_mean', 'decode_head.classifier.weight', 'decode_head.batch_norm.running_var', 'decode_head.linear_fuse.weight', 'decode_head.linear_c.2.proj.weight', 'decode_head.linear_c.0.proj.bias', 'decode_head.linear_c.0.proj.weight', 'decode_head.linear_c.2.proj.bias']\n",
      "You should probably TRAIN this model on a down-stream task to be able to use it for predictions and inference.\n"
     ]
    },
    {
     "name": "stdout",
     "output_type": "stream",
     "text": [
      "torch.Size([244, 5])\n",
      "-----------------------------------\n",
      "mit-b2_ms_model\n",
      "5\n",
      "\tPrecision: 0.6792% | ± 0.2276 (std) | ± 0.0518 (var)\n",
      "\tRecall: 0.5899% | ± 0.1942 (std) | ± 0.0377 (var)\n",
      "\tF2: 0.5850% | ± 0.1878 (std) | ± 0.0353 (var)\n",
      "\tJac: 0.4511% | ± 0.1769 (std) | ± 0.0313 (var)\n",
      "\tAcc: 0.9736% | ± 0.0268 (std) | ± 0.0007 (var)\n",
      "-----------------------------------\n"
     ]
    }
   ],
   "source": [
    "def eval_model(pretrain, name, epoch, t):\n",
    "    model = SegformerForSemanticSegmentation.from_pretrained(\n",
    "        f\"nvidia/{pretrain}\", \n",
    "        num_labels=4,\n",
    "    ).to(device)\n",
    "\n",
    "    model.load_state_dict(state_dict=torch.load(f'{path_to_results}/{pretrain}_{name}/model_epoch_{epoch}.pth'))\n",
    "    df = pd.read_csv(f'{path_to_results}/{pretrain}_{name}/training_stats.csv')\n",
    "    losses_train[f'{pretrain}_{name}'] = df['Train_Loss']\n",
    "    losses_test[f'{pretrain}_{name}'] = df['Test_Loss']\n",
    "    iou_train[f'{pretrain}_{name}'] = df['Train_IoU']\n",
    "    iou_test[f'{pretrain}_{name}'] = df['Test_IoU']\n",
    "\n",
    "    val = ValDataset('../data/', transform=t, with_background=True)\n",
    "    val_loader = DataLoader(val, batch_size=1, shuffle=False)\n",
    "    res = stats.calculate_statistics(model, device, val, val_loader, metrics)\n",
    "    stats.print_statistics(res, metrics, f'{pretrain}_{name}')\n",
    "    \n",
    "t_base = tran.Compose([\n",
    "        tran.ToTensor(),\n",
    "    ])\n",
    "\n",
    "t_05 = tran.Compose([\n",
    "        tran.ToTensor(),\n",
    "        tran.Normalize((0.5, 0.5, 0.5), (0.5, 0.5, 0.5))\n",
    "    ])\n",
    "\n",
    "eval_model('mit-b0', 'norm_base', \"30\",t_base)\n",
    "eval_model('mit-b0', 'norm_05', \"30\",t_05)\n",
    "eval_model('mit-b0', 'norm_ms', \"30\",t_ms)\n",
    "eval_model('mit-b1', 'ms_model', \"12\",t_ms)\n",
    "eval_model('mit-b2', 'ms_model', \"20\",t_ms)"
   ]
  },
  {
   "cell_type": "code",
   "execution_count": 13,
   "metadata": {},
   "outputs": [],
   "source": [
    "import seaborn as sns\n",
    "plt.style.use([\"science\", \"nature\"])\n",
    "pallette = sns.color_palette(\"Set2\")"
   ]
  },
  {
   "cell_type": "code",
   "execution_count": 36,
   "metadata": {},
   "outputs": [],
   "source": [
    "import numpy as np"
   ]
  },
  {
   "cell_type": "code",
   "execution_count": 37,
   "metadata": {},
   "outputs": [],
   "source": [
    "def prepare_data(data):\n",
    "    d = [(i + 1, e) for i, e in enumerate(data) if not np.isnan(e)]\n",
    "    df = pd.DataFrame(d, columns=[\"epoch\", \"value\"])\n",
    "    return df"
   ]
  },
  {
   "cell_type": "code",
   "execution_count": 46,
   "metadata": {},
   "outputs": [],
   "source": [
    "test_losses_hsv = prepare_data(losses_test['mit-b2_aug_flip__HSV_0.0001'].values)\n",
    "test_losses_flip = prepare_data(losses_test['mit-b2_aug_flip_0.0001'].values)\n",
    "test_losses_base = prepare_data(losses_test['mit-b2_ms_model'].values)"
   ]
  },
  {
   "cell_type": "code",
   "execution_count": 51,
   "metadata": {},
   "outputs": [
    {
     "data": {
      "text/plain": [
       "Text(0, 0.5, 'Loss')"
      ]
     },
     "execution_count": 51,
     "metadata": {},
     "output_type": "execute_result"
    },
    {
     "data": {
      "image/png": "[encoded data removed]",
      "text/plain": [
       "<Figure size 330x250 with 1 Axes>"
      ]
     },
     "metadata": {},
     "output_type": "display_data"
    }
   ],
   "source": [
    "fig, axs = plt.subplots(nrows=1, ncols=1)\n",
    "\n",
    "sns.lineplot(\n",
    "    test_losses_hsv, \n",
    "    x=\"epoch\", \n",
    "    y=\"value\", \n",
    "    ax=axs, \n",
    "    # linestyle=\"dashed\", \n",
    "    label=\"random HSV\", \n",
    "    # color=pallette[0],\n",
    ")\n",
    "\n",
    "\n",
    "sns.lineplot(\n",
    "    test_losses_flip , \n",
    "    x=\"epoch\", \n",
    "    y=\"value\", \n",
    "    ax=axs, \n",
    "    # linestyle=\"dashed\", \n",
    "    label=\"random flip\", \n",
    "    # color=pallette[1],\n",
    ")\n",
    "\n",
    "sns.lineplot(\n",
    "    test_losses_base, \n",
    "    x=\"epoch\", \n",
    "    y=\"value\", \n",
    "    ax=axs, \n",
    "    # linestyle=\"dashed\", \n",
    "    label=\"base\", \n",
    "    # color=pallette[1],\n",
    ")\n",
    "\n",
    "\n",
    "axs.set_xlabel(\"Epoch\")\n",
    "axs.set_ylabel(\"Loss\")"
   ]
  },
  {
   "cell_type": "code",
   "execution_count": 52,
   "metadata": {},
   "outputs": [
    {
     "data": {
      "text/plain": [
       "<Figure size 330x250 with 0 Axes>"
      ]
     },
     "metadata": {},
     "output_type": "display_data"
    }
   ],
   "source": [
    "fig.savefig(\"segformer_loss.svg\", format=\"svg\")"
   ]
  },
  {
   "cell_type": "code",
   "execution_count": 9,
   "metadata": {},
   "outputs": [
    {
     "name": "stderr",
     "output_type": "stream",
     "text": [
      "Some weights of SegformerForSemanticSegmentation were not initialized from the model checkpoint at nvidia/mit-b2 and are newly initialized: ['decode_head.linear_c.3.proj.weight', 'decode_head.classifier.bias', 'decode_head.linear_c.1.proj.weight', 'decode_head.linear_c.1.proj.bias', 'decode_head.linear_c.3.proj.bias', 'decode_head.batch_norm.num_batches_tracked', 'decode_head.batch_norm.weight', 'decode_head.batch_norm.bias', 'decode_head.batch_norm.running_mean', 'decode_head.classifier.weight', 'decode_head.batch_norm.running_var', 'decode_head.linear_fuse.weight', 'decode_head.linear_c.2.proj.weight', 'decode_head.linear_c.0.proj.bias', 'decode_head.linear_c.0.proj.weight', 'decode_head.linear_c.2.proj.bias']\n",
      "You should probably TRAIN this model on a down-stream task to be able to use it for predictions and inference.\n"
     ]
    },
    {
     "name": "stdout",
     "output_type": "stream",
     "text": [
      "torch.Size([244, 5])\n",
      "-----------------------------------\n",
      "mit-b2_sizes_128\n",
      "5\n",
      "\tPrecision: 0.4103% | ± 0.3803 (std) | ± 0.1446 (var)\n",
      "\tRecall: 0.1668% | ± 0.2209 (std) | ± 0.0488 (var)\n",
      "\tF2: 0.1707% | ± 0.2164 (std) | ± 0.0468 (var)\n",
      "\tJac: 0.1239% | ± 0.1670 (std) | ± 0.0279 (var)\n",
      "\tAcc: 0.9560% | ± 0.0391 (std) | ± 0.0015 (var)\n",
      "-----------------------------------\n"
     ]
    },
    {
     "name": "stderr",
     "output_type": "stream",
     "text": [
      "Some weights of SegformerForSemanticSegmentation were not initialized from the model checkpoint at nvidia/mit-b2 and are newly initialized: ['decode_head.linear_c.3.proj.weight', 'decode_head.classifier.bias', 'decode_head.linear_c.1.proj.weight', 'decode_head.linear_c.1.proj.bias', 'decode_head.linear_c.3.proj.bias', 'decode_head.batch_norm.num_batches_tracked', 'decode_head.batch_norm.weight', 'decode_head.batch_norm.bias', 'decode_head.batch_norm.running_mean', 'decode_head.classifier.weight', 'decode_head.batch_norm.running_var', 'decode_head.linear_fuse.weight', 'decode_head.linear_c.2.proj.weight', 'decode_head.linear_c.0.proj.bias', 'decode_head.linear_c.0.proj.weight', 'decode_head.linear_c.2.proj.bias']\n",
      "You should probably TRAIN this model on a down-stream task to be able to use it for predictions and inference.\n"
     ]
    },
    {
     "name": "stdout",
     "output_type": "stream",
     "text": [
      "torch.Size([244, 5])\n",
      "-----------------------------------\n",
      "mit-b2_sizes_256\n",
      "5\n",
      "\tPrecision: 0.6155% | ± 0.2322 (std) | ± 0.0539 (var)\n",
      "\tRecall: 0.4734% | ± 0.2315 (std) | ± 0.0536 (var)\n",
      "\tF2: 0.4733% | ± 0.2151 (std) | ± 0.0463 (var)\n",
      "\tJac: 0.3505% | ± 0.1763 (std) | ± 0.0311 (var)\n",
      "\tAcc: 0.9688% | ± 0.0324 (std) | ± 0.0010 (var)\n",
      "-----------------------------------\n"
     ]
    },
    {
     "name": "stderr",
     "output_type": "stream",
     "text": [
      "Some weights of SegformerForSemanticSegmentation were not initialized from the model checkpoint at nvidia/mit-b2 and are newly initialized: ['decode_head.linear_c.3.proj.weight', 'decode_head.classifier.bias', 'decode_head.linear_c.1.proj.weight', 'decode_head.linear_c.1.proj.bias', 'decode_head.linear_c.3.proj.bias', 'decode_head.batch_norm.num_batches_tracked', 'decode_head.batch_norm.weight', 'decode_head.batch_norm.bias', 'decode_head.batch_norm.running_mean', 'decode_head.classifier.weight', 'decode_head.batch_norm.running_var', 'decode_head.linear_fuse.weight', 'decode_head.linear_c.2.proj.weight', 'decode_head.linear_c.0.proj.bias', 'decode_head.linear_c.0.proj.weight', 'decode_head.linear_c.2.proj.bias']\n",
      "You should probably TRAIN this model on a down-stream task to be able to use it for predictions and inference.\n"
     ]
    },
    {
     "name": "stdout",
     "output_type": "stream",
     "text": [
      "torch.Size([244, 5])\n",
      "-----------------------------------\n",
      "mit-b2_lr_0.0001\n",
      "5\n",
      "\tPrecision: 0.6686% | ± 0.2155 (std) | ± 0.0464 (var)\n",
      "\tRecall: 0.6366% | ± 0.2087 (std) | ± 0.0436 (var)\n",
      "\tF2: 0.6203% | ± 0.2016 (std) | ± 0.0406 (var)\n",
      "\tJac: 0.4756% | ± 0.1860 (std) | ± 0.0346 (var)\n",
      "\tAcc: 0.9733% | ± 0.0305 (std) | ± 0.0009 (var)\n",
      "-----------------------------------\n"
     ]
    },
    {
     "name": "stderr",
     "output_type": "stream",
     "text": [
      "Some weights of SegformerForSemanticSegmentation were not initialized from the model checkpoint at nvidia/mit-b2 and are newly initialized: ['decode_head.linear_c.3.proj.weight', 'decode_head.classifier.bias', 'decode_head.linear_c.1.proj.weight', 'decode_head.linear_c.1.proj.bias', 'decode_head.linear_c.3.proj.bias', 'decode_head.batch_norm.num_batches_tracked', 'decode_head.batch_norm.weight', 'decode_head.batch_norm.bias', 'decode_head.batch_norm.running_mean', 'decode_head.classifier.weight', 'decode_head.batch_norm.running_var', 'decode_head.linear_fuse.weight', 'decode_head.linear_c.2.proj.weight', 'decode_head.linear_c.0.proj.bias', 'decode_head.linear_c.0.proj.weight', 'decode_head.linear_c.2.proj.bias']\n",
      "You should probably TRAIN this model on a down-stream task to be able to use it for predictions and inference.\n"
     ]
    },
    {
     "name": "stdout",
     "output_type": "stream",
     "text": [
      "torch.Size([244, 5])\n",
      "-----------------------------------\n",
      "mit-b2_lr_0.00001\n",
      "5\n",
      "\tPrecision: 0.7276% | ± 0.2063 (std) | ± 0.0426 (var)\n",
      "\tRecall: 0.5248% | ± 0.2194 (std) | ± 0.0481 (var)\n",
      "\tF2: 0.5371% | ± 0.2123 (std) | ± 0.0451 (var)\n",
      "\tJac: 0.4273% | ± 0.1851 (std) | ± 0.0342 (var)\n",
      "\tAcc: 0.9740% | ± 0.0281 (std) | ± 0.0008 (var)\n",
      "-----------------------------------\n"
     ]
    },
    {
     "name": "stderr",
     "output_type": "stream",
     "text": [
      "Some weights of SegformerForSemanticSegmentation were not initialized from the model checkpoint at nvidia/mit-b2 and are newly initialized: ['decode_head.linear_c.3.proj.weight', 'decode_head.classifier.bias', 'decode_head.linear_c.1.proj.weight', 'decode_head.linear_c.1.proj.bias', 'decode_head.linear_c.3.proj.bias', 'decode_head.batch_norm.num_batches_tracked', 'decode_head.batch_norm.weight', 'decode_head.batch_norm.bias', 'decode_head.batch_norm.running_mean', 'decode_head.classifier.weight', 'decode_head.batch_norm.running_var', 'decode_head.linear_fuse.weight', 'decode_head.linear_c.2.proj.weight', 'decode_head.linear_c.0.proj.bias', 'decode_head.linear_c.0.proj.weight', 'decode_head.linear_c.2.proj.bias']\n",
      "You should probably TRAIN this model on a down-stream task to be able to use it for predictions and inference.\n"
     ]
    },
    {
     "name": "stdout",
     "output_type": "stream",
     "text": [
      "torch.Size([244, 5])\n",
      "-----------------------------------\n",
      "mit-b2_aug_flip_0.0001\n",
      "5\n",
      "\tPrecision: 0.7270% | ± 0.2136 (std) | ± 0.0456 (var)\n",
      "\tRecall: 0.5801% | ± 0.2152 (std) | ± 0.0463 (var)\n",
      "\tF2: 0.5878% | ± 0.2066 (std) | ± 0.0427 (var)\n",
      "\tJac: 0.4709% | ± 0.1877 (std) | ± 0.0352 (var)\n",
      "\tAcc: 0.9771% | ± 0.0214 (std) | ± 0.0005 (var)\n",
      "-----------------------------------\n"
     ]
    },
    {
     "name": "stderr",
     "output_type": "stream",
     "text": [
      "Some weights of SegformerForSemanticSegmentation were not initialized from the model checkpoint at nvidia/mit-b2 and are newly initialized: ['decode_head.linear_c.3.proj.weight', 'decode_head.classifier.bias', 'decode_head.linear_c.1.proj.weight', 'decode_head.linear_c.1.proj.bias', 'decode_head.linear_c.3.proj.bias', 'decode_head.batch_norm.num_batches_tracked', 'decode_head.batch_norm.weight', 'decode_head.batch_norm.bias', 'decode_head.batch_norm.running_mean', 'decode_head.classifier.weight', 'decode_head.batch_norm.running_var', 'decode_head.linear_fuse.weight', 'decode_head.linear_c.2.proj.weight', 'decode_head.linear_c.0.proj.bias', 'decode_head.linear_c.0.proj.weight', 'decode_head.linear_c.2.proj.bias']\n",
      "You should probably TRAIN this model on a down-stream task to be able to use it for predictions and inference.\n"
     ]
    },
    {
     "name": "stdout",
     "output_type": "stream",
     "text": [
      "torch.Size([244, 5])\n",
      "-----------------------------------\n",
      "mit-b2_aug_flip__HSV_0.0001\n",
      "5\n",
      "\tPrecision: 0.5552% | ± 0.2501 (std) | ± 0.0626 (var)\n",
      "\tRecall: 0.5661% | ± 0.2513 (std) | ± 0.0631 (var)\n",
      "\tF2: 0.5296% | ± 0.2267 (std) | ± 0.0514 (var)\n",
      "\tJac: 0.3668% | ± 0.1845 (std) | ± 0.0340 (var)\n",
      "\tAcc: 0.9670% | ± 0.0277 (std) | ± 0.0008 (var)\n",
      "-----------------------------------\n"
     ]
    }
   ],
   "source": [
    "eval_model('mit-b2', 'sizes_128', \"12\", tran.Compose([t_ms, tran.Resize(128)]))\n",
    "eval_model('mit-b2', 'sizes_256', \"20\", tran.Compose([t_ms, tran.Resize(256)]))\n",
    "eval_model('mit-b2', 'lr_0.0001', \"12\" , t_ms)\n",
    "eval_model('mit-b2', 'lr_0.00001', '16', t_ms)\n",
    "eval_model('mit-b2', 'aug_flip_0.0001', \"16\" , t_ms)\n",
    "eval_model('mit-b2', 'aug_flip__HSV_0.0001', \"24\" , t_ms)"
   ]
  }
 ],
 "metadata": {
  "kernelspec": {
   "display_name": "Python 3",
   "language": "python",
   "name": "python3"
  },
  "language_info": {
   "codemirror_mode": {
    "name": "ipython",
    "version": 3
   },
   "file_extension": ".py",
   "mimetype": "text/x-python",
   "name": "python",
   "nbconvert_exporter": "python",
   "pygments_lexer": "ipython3",
   "version": "3.10.12"
  },
  "orig_nbformat": 4
 },
 "nbformat": 4,
 "nbformat_minor": 2
}
