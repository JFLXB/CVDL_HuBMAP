{
 "cells": [
  {
   "cell_type": "code",
   "execution_count": null,
   "metadata": {},
   "outputs": [],
   "source": [
    "import torch\n",
    "import matplotlib.pyplot as plt\n",
    "import scienceplots as _\n",
    "import pandas as pd\n",
    "import seaborn as sns"
   ]
  },
  {
   "cell_type": "code",
   "execution_count": null,
   "metadata": {},
   "outputs": [],
   "source": [
    "plt.style.use([\"science\", \"nature\"])"
   ]
  },
  {
   "cell_type": "code",
   "execution_count": null,
   "metadata": {},
   "outputs": [],
   "source": [
    "ckpt1_path = \"\"\n",
    "ckpt2_path = \"\""
   ]
  },
  {
   "cell_type": "code",
   "execution_count": null,
   "metadata": {},
   "outputs": [],
   "source": [
    "ckpt1_label = \"\"\n",
    "ckpt2_label = \"\""
   ]
  },
  {
   "cell_type": "code",
   "execution_count": null,
   "metadata": {},
   "outputs": [],
   "source": [
    "ckpt1 = torch.load(ckpt1_path)\n",
    "ckpt2 = torch.load(ckpt2_path)"
   ]
  },
  {
   "cell_type": "code",
   "execution_count": null,
   "metadata": {},
   "outputs": [],
   "source": [
    "training_loss_ckpt1 = ckpt1[\"training_loss_history\"]\n",
    "validation_loss_ckpt1 = ckpt1[\"validation_loss_history\"]\n",
    "\n",
    "training_loss_ckpt2 = ckpt2[\"training_loss_history\"]\n",
    "validation_loss_ckpt2 = ckpt2[\"validation_loss_history\"]"
   ]
  },
  {
   "cell_type": "code",
   "execution_count": null,
   "metadata": {},
   "outputs": [],
   "source": [
    "def prepare_data(data):\n",
    "    d = [(i, e) for i, elems in enumerate(data) for e in elems]\n",
    "    df = pd.DataFrame(d, columns=[\"epoch\", \"value\"])\n",
    "    return df"
   ]
  },
  {
   "cell_type": "code",
   "execution_count": null,
   "metadata": {},
   "outputs": [],
   "source": [
    "training_loss_history_ckpt1 = prepare_data(training_loss_ckpt1)\n",
    "validation_loss_history_ckpt1 = prepare_data(validation_loss_ckpt1)\n",
    "\n",
    "training_loss_history_ckpt2 = prepare_data(training_loss_ckpt2)\n",
    "validation_loss_history_ckpt2 = prepare_data(validation_loss_ckpt2)"
   ]
  },
  {
   "cell_type": "code",
   "execution_count": null,
   "metadata": {},
   "outputs": [],
   "source": [
    "pallette = sns.color_palette(\"Set2\")"
   ]
  },
  {
   "cell_type": "code",
   "execution_count": null,
   "metadata": {},
   "outputs": [],
   "source": [
    "fig, axs = plt.subplots(nrows=1, ncols=1)\n",
    "\n",
    "ckpt1_label\n",
    "ckpt2_label\n",
    "\n",
    "sns.lineplot(\n",
    "    validation_loss_history_ckpt1, \n",
    "    x=\"epoch\", \n",
    "    y=\"value\", \n",
    "    ax=axs, \n",
    "    label=f\"{ckpt1_label}\", \n",
    ")\n",
    "\n",
    "sns.lineplot(\n",
    "    validation_loss_history_ckpt2, \n",
    "    x=\"epoch\", \n",
    "    y=\"value\", \n",
    "    ax=axs, \n",
    "    label=f\"{ckpt2_label}\", \n",
    ")\n",
    "\n",
    "axs.set_xlabel(\"Epoch\")\n",
    "axs.set_ylabel(\"Loss\")"
   ]
  },
  {
   "cell_type": "code",
   "execution_count": null,
   "metadata": {},
   "outputs": [],
   "source": [
    "fig.savefig(\"./trans_res_u-net_best_model_comparison.svg\")"
   ]
  }
 ],
 "metadata": {
  "kernelspec": {
   "display_name": "J",
   "language": "python",
   "name": "python3"
  },
  "language_info": {
   "codemirror_mode": {
    "name": "ipython",
    "version": 3
   },
   "file_extension": ".py",
   "mimetype": "text/x-python",
   "name": "python",
   "nbconvert_exporter": "python",
   "pygments_lexer": "ipython3",
   "version": "3.11.4"
  },
  "orig_nbformat": 4
 },
 "nbformat": 4,
 "nbformat_minor": 2
}
