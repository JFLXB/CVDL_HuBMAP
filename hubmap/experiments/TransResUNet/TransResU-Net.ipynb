{
 "cells": [
  {
   "attachments": {},
   "cell_type": "markdown",
   "metadata": {},
   "source": [
    "# Experiment Notebook for the TransRestU-Net"
   ]
  },
  {
   "cell_type": "markdown",
   "metadata": {},
   "source": [
    "The [training script](./train.py) is based on the this notebook.\n",
    "\n",
    "You might need to adjust the batch size to fit into your GPU memory."
   ]
  },
  {
   "cell_type": "code",
   "execution_count": null,
   "metadata": {},
   "outputs": [],
   "source": [
    "import os\n",
    "from pathlib import Path\n",
    "from configs import CONFIG_DIR\n",
    "from figures import FIGURES_DIR\n",
    "\n",
    "import torch\n",
    "import torch.optim as optim\n",
    "from torch.utils.data import DataLoader\n",
    "\n",
    "from hubmap.data import DATA_DIR\n",
    "from hubmap.dataset import transforms as T\n",
    "from hubmap.dataset import TrainDataset, ValDataset\n",
    "\n",
    "from hubmap.experiments.TransResUNet.utils import run\n",
    "from hubmap.metrics.dice_score import DiceScore\n",
    "from hubmap.losses.dice_bce_loss import DiceBCELoss\n",
    "from hubmap.losses.channel_weighted_dice_bce_loss import ChannelWeightedDiceBCELoss\n",
    "from hubmap.visualization import visualize_detailed_results\n",
    "from hubmap.visualization import visualize_detailed_results_overlay\n",
    "\n",
    "from hubmap.training import LRScheduler\n",
    "from hubmap.training import EarlyStopping\n",
    "\n",
    "from hubmap.visualization import visualize_result\n",
    "\n",
    "from hubmap.models.trans_res_u_net.model import TResUnet, TResUnet512"
   ]
  },
  {
   "cell_type": "code",
   "execution_count": null,
   "metadata": {},
   "outputs": [],
   "source": [
    "NUM_EPOCHS = 2\n",
    "BATCH_SIZE = 8\n",
    "CHECKPOINT = Path(\".\", \"demo_trans_res_u_net\")\n",
    "CONTINUE_TRAINING = False\n",
    "PATIENCE = 50\n",
    "LR = 1e-4\n",
    "BACKBONE = \"resnext101_32x8d\"\n",
    "PRETRAINED = True\n",
    "\n",
    "WEIGHT = torch.tensor([1, 1, 1, 1])"
   ]
  },
  {
   "cell_type": "code",
   "execution_count": null,
   "metadata": {},
   "outputs": [],
   "source": [
    "train_transforms = T.Compose(\n",
    "    [\n",
    "        T.ToTensor(),\n",
    "        T.Resize((512, 512)),\n",
    "        T.RandomHorizontalFlip(),\n",
    "        T.RandomVerticalFlip(),\n",
    "        T.RandomCrop((512, 512)),\n",
    "    ]\n",
    ")\n",
    "\n",
    "val_transforms = T.Compose(\n",
    "    [\n",
    "        T.ToTensor(),\n",
    "        T.Resize((512, 512)),\n",
    "    ]\n",
    ")"
   ]
  },
  {
   "cell_type": "code",
   "execution_count": null,
   "metadata": {},
   "outputs": [],
   "source": [
    "train_set = TrainDataset(DATA_DIR, transform=train_transforms, with_background=True)\n",
    "val_set = ValDataset(DATA_DIR, transform=val_transforms, with_background=True)"
   ]
  },
  {
   "cell_type": "code",
   "execution_count": null,
   "metadata": {},
   "outputs": [],
   "source": [
    "train_loader = DataLoader(\n",
    "    train_set, batch_size=BATCH_SIZE, shuffle=False, num_workers=16\n",
    ")\n",
    "val_loader = DataLoader(val_set, batch_size=BATCH_SIZE, shuffle=False, num_workers=16)"
   ]
  },
  {
   "cell_type": "code",
   "execution_count": null,
   "metadata": {},
   "outputs": [],
   "source": [
    "device = \"cuda\" if torch.cuda.is_available() else \"cpu\""
   ]
  },
  {
   "cell_type": "code",
   "execution_count": null,
   "metadata": {},
   "outputs": [],
   "source": [
    "model = TResUnet512(num_classes=4, backbone=BACKBONE, pretrained=PRETRAINED)\n",
    "model = model.to(device)\n",
    "\n",
    "optimizer = optim.Adam(model.parameters(), lr=LR)\n",
    "criterion = ChannelWeightedDiceBCELoss(weights=WEIGHT.to(device))\n",
    "lr_scheduler = LRScheduler(optimizer, patience=5)\n",
    "early_stopping = EarlyStopping(patience=50)\n",
    "\n",
    "result = run(\n",
    "    num_epochs=NUM_EPOCHS,\n",
    "    model=model,\n",
    "    train_loader=train_loader,\n",
    "    val_loader=val_loader,\n",
    "    optimizer=optimizer,\n",
    "    criterion=criterion,\n",
    "    device=device,\n",
    "    early_stopping=early_stopping,\n",
    "    lr_scheduler=lr_scheduler,\n",
    "    checkpoint_name=CHECKPOINT,\n",
    "    continue_training=CONTINUE_TRAINING,\n",
    ")"
   ]
  },
  {
   "cell_type": "markdown",
   "metadata": {},
   "source": [
    "<br>"
   ]
  },
  {
   "cell_type": "code",
   "execution_count": null,
   "metadata": {},
   "outputs": [],
   "source": [
    "loss_fig, _ = visualize_result(result)"
   ]
  },
  {
   "cell_type": "code",
   "execution_count": null,
   "metadata": {},
   "outputs": [],
   "source": [
    "data = iter(val_set)\n",
    "image, target = next(data)"
   ]
  },
  {
   "cell_type": "code",
   "execution_count": null,
   "metadata": {},
   "outputs": [],
   "source": [
    "detailed = visualize_detailed_results(model, image, target, device, CHECKPOINT)"
   ]
  },
  {
   "cell_type": "code",
   "execution_count": null,
   "metadata": {},
   "outputs": [],
   "source": [
    "detailed_overlay = visualize_detailed_results_overlay(\n",
    "    model, image, target, device, CHECKPOINT\n",
    ")"
   ]
  },
  {
   "cell_type": "markdown",
   "metadata": {},
   "source": [
    "<br>"
   ]
  }
 ],
 "metadata": {
  "kernelspec": {
   "display_name": "J",
   "language": "python",
   "name": "python3"
  },
  "language_info": {
   "codemirror_mode": {
    "name": "ipython",
    "version": 3
   },
   "file_extension": ".py",
   "mimetype": "text/x-python",
   "name": "python",
   "nbconvert_exporter": "python",
   "pygments_lexer": "ipython3",
   "version": "3.11.4"
  },
  "orig_nbformat": 4
 },
 "nbformat": 4,
 "nbformat_minor": 2
}
