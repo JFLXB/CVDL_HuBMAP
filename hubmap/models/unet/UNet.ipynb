{
 "cells": [
  {
   "cell_type": "markdown",
   "metadata": {},
   "source": [
    "# U-Net"
   ]
  },
  {
   "cell_type": "markdown",
   "metadata": {},
   "source": [
    "## Imports"
   ]
  },
  {
   "cell_type": "code",
   "execution_count": 1,
   "metadata": {},
   "outputs": [],
   "source": [
    "import os\n",
    "import sys\n",
    "from datetime import datetime\n",
    "sys.path.append('../../dataset')\n",
    "from datasets import TrainDataset, TestDataset, ValDataset\n",
    "\n",
    "import transforms as tran\n",
    "from torch.utils.data import DataLoader\n",
    "import torch\n",
    "import torch.nn as nn\n",
    "import torchvision.models as models\n",
    "import torch.optim as optim\n",
    "\n",
    "import pandas as pd\n",
    "import numpy as np\n",
    "import matplotlib.pyplot as plt"
   ]
  },
  {
   "cell_type": "markdown",
   "metadata": {},
   "source": [
    "## Load Data"
   ]
  },
  {
   "cell_type": "code",
   "execution_count": 2,
   "metadata": {},
   "outputs": [
    {
     "name": "stdout",
     "output_type": "stream",
     "text": [
      "Train set size before augmentation: 1226\n",
      "Validation set size before augmentation: 244\n"
     ]
    }
   ],
   "source": [
    "transforms_augment = tran.Compose([\n",
    "    tran.ToTensor(mask_as_integer=False),\n",
    "    tran.Resize((256, 256)),\n",
    "    tran.RandomHorizontalFlip(),\n",
    "    tran.RandomVerticalFlip(),\n",
    "])\n",
    "\n",
    "transforms_val = tran.Compose([\n",
    "    tran.ToTensor(mask_as_integer=False),\n",
    "    tran.Resize((256, 256)),\n",
    "])\n",
    "train = TrainDataset('../../data/', transform=transforms_augment, with_background=True, as_id_mask=False)\n",
    "val = ValDataset('../../data/', transform=transforms_val, with_background=True, as_id_mask=False)\n",
    "\n",
    "print(\"Train set size before augmentation:\", len(train))\n",
    "print(\"Validation set size before augmentation:\", len(val))\n",
    "\n",
    "batch_size = 6\n",
    "train_loader = DataLoader(train, batch_size=batch_size, shuffle=True)\n",
    "val_loader = DataLoader(val, batch_size=batch_size, shuffle=True)"
   ]
  },
  {
   "cell_type": "markdown",
   "metadata": {},
   "source": [
    "## U-Net Code"
   ]
  },
  {
   "cell_type": "code",
   "execution_count": 3,
   "metadata": {},
   "outputs": [],
   "source": [
    "class UNet(nn.Module):\n",
    "    def __init__(self, out_channels, encoder_name='resnet18', pretrained=True):\n",
    "        super(UNet, self).__init__()\n",
    "        if encoder_name == 'resnet18':\n",
    "            self.encoder = models.resnet18(pretrained=pretrained)\n",
    "        elif encoder_name == 'resnet34':\n",
    "            self.encoder = models.resnet34(pretrained=pretrained)\n",
    "        \n",
    "        self.upconv1 = self.conv_transpose_block(512, 256)\n",
    "        self.upconv2 = self.conv_transpose_block(256, 128)\n",
    "        self.upconv3 = self.conv_transpose_block(128, 64)\n",
    "        self.upconv4 = self.conv_transpose_block(64, 32)\n",
    "\n",
    "        self.out_conv = nn.Conv2d(32, out_channels, kernel_size=1)\n",
    "\n",
    "    def conv_transpose_block(self, in_channels, out_channels):\n",
    "        return nn.Sequential(\n",
    "            nn.ConvTranspose2d(in_channels, out_channels, kernel_size=2, stride=2),\n",
    "            nn.ReLU(),\n",
    "            nn.Conv2d(out_channels, out_channels, kernel_size=3, padding=1),\n",
    "            nn.ReLU()\n",
    "        )\n",
    "\n",
    "    def forward(self, x):\n",
    "        # Pass input through the ResNet encoder\n",
    "        x1 = self.encoder.relu(self.encoder.bn1(self.encoder.conv1(x)))\n",
    "        x2 = self.encoder.layer1(x1)\n",
    "        x3 = self.encoder.layer2(x2)\n",
    "        x4 = self.encoder.layer3(x3)\n",
    "        x5 = self.encoder.layer4(x4)\n",
    "\n",
    "        x = self.upconv1(x5)\n",
    "        x = self.upconv2(x)\n",
    "        x = self.upconv3(x)\n",
    "        x = self.upconv4(x)\n",
    "\n",
    "        x = self.out_conv(x)\n",
    "        return x"
   ]
  },
  {
   "cell_type": "markdown",
   "metadata": {},
   "source": [
    "## Helper Methods used in Training Loop"
   ]
  },
  {
   "cell_type": "code",
   "execution_count": 4,
   "metadata": {},
   "outputs": [],
   "source": [
    "def create_folder():\n",
    "    timestamp = datetime.now().strftime('%Y%m%d_%H%M%S')\n",
    "    run_folder = f'checkpoints/{timestamp}'\n",
    "    os.makedirs(run_folder)\n",
    "    return run_folder\n",
    "\n",
    "def log_specs(n_epochs, lr, model_name, encoder_name, \n",
    "              pretrained, optimizer_name, criterion_name,\n",
    "              run_folder):\n",
    "    \n",
    "    config_details = f\"\"\"\n",
    "    Epochs: {n_epochs}\n",
    "    Learning Rate: {lr}\n",
    "    Model: {model_name}\n",
    "    Encoder: {encoder_name}\n",
    "    Pretrained: {pretrained}\n",
    "    Optimizer: {optimizer_name}\n",
    "    Criterion: {criterion_name}\n",
    "    \"\"\"\n",
    "\n",
    "    with open(f'{run_folder}/00_config.txt', 'w') as file:\n",
    "        file.write(config_details)\n",
    "\n",
    "def iou_score(output, target):\n",
    "    ious = []\n",
    "    for class_idx in range(4):  # Assuming 4 classes\n",
    "        output_class = (output == class_idx)\n",
    "        target_class = (target == class_idx)\n",
    "        intersection = (output_class & target_class).float().sum()\n",
    "        union = (output_class | target_class).float().sum()\n",
    "        ious.append((intersection + 1e-6) / (union + 1e-6))  # Avoid division by zero\n",
    "    return ious\n",
    "\n",
    "\n",
    "def log_metrics(run_folder, train_ious, val_ious, train_losses, val_losses):\n",
    "    ## IoUs\n",
    "    train_ious_df = pd.DataFrame({'train_iou': train_ious})\n",
    "    train_ious_csv_path = f'{run_folder}/00_train_ious.csv'\n",
    "    train_ious_df.to_csv(train_ious_csv_path, index=False)\n",
    "\n",
    "    val_ious_df = pd.DataFrame({'val_iou': val_ious})\n",
    "    val_ious_csv_path = f'{run_folder}/00_val_ious.csv'\n",
    "    val_ious_df.to_csv(val_ious_csv_path, index=False)\n",
    "\n",
    "    ## Losses\n",
    "    train_losses_df = pd.DataFrame({'train_loss': train_losses})\n",
    "    train_losses_csv_path = f'{run_folder}/00_train_losses.csv'\n",
    "    train_losses_df.to_csv(train_losses_csv_path, index=False)\n",
    "\n",
    "    val_losses_df = pd.DataFrame({'val_loss': val_losses})\n",
    "    val_losses_csv_path = f'{run_folder}/00_val_losses.csv'\n",
    "    val_losses_df.to_csv(val_losses_csv_path, index=False)\n",
    "\n",
    "    # Saving max_train_max_val\n",
    "    max_values_df = pd.DataFrame({\n",
    "        'max_train_iou': [max(train_ious)],\n",
    "        'max_val_iou': [max(val_ious)]\n",
    "    })\n",
    "    max_values_csv_path = f'{run_folder}/00_max_train_max_val.csv'\n",
    "    max_values_df.to_csv(max_values_csv_path, index=False)\n",
    "\n",
    "class FocalLoss(nn.Module):\n",
    "    def __init__(self, alpha, gamma=2, reduction='mean'):\n",
    "        super(FocalLoss, self).__init__()\n",
    "        self.alpha = alpha\n",
    "        self.gamma = gamma\n",
    "        self.reduction = reduction\n",
    "\n",
    "    def forward(self, input, target):\n",
    "        ce_loss = nn.functional.cross_entropy(input, target, reduction='none')  # Shape: (batch_size, H, W)\n",
    "        pt = torch.exp(-ce_loss)\n",
    "        alpha_t = self.alpha[target.view(-1)].view(target.size())  # Reshape alpha to match target shape\n",
    "        loss = alpha_t * (1 - pt) ** self.gamma * ce_loss\n",
    "        if self.reduction == 'mean':\n",
    "            return loss.mean()\n",
    "        elif self.reduction == 'sum':\n",
    "            return loss.sum()\n",
    "        else:\n",
    "            return loss"
   ]
  },
  {
   "cell_type": "markdown",
   "metadata": {},
   "source": [
    "## Config Training"
   ]
  },
  {
   "cell_type": "code",
   "execution_count": 5,
   "metadata": {},
   "outputs": [
    {
     "name": "stdout",
     "output_type": "stream",
     "text": [
      "cuda\n"
     ]
    }
   ],
   "source": [
    "learning_rates = [0.0001, 0.0005, 0.001, 0.0025, 0.005, 0.01]\n",
    "encoder_names = [\"resnet18\", \"resnet34\"]\n",
    "losses = [\"CEL\", \"FC\"]\n",
    "device = torch.device('cuda' if torch.cuda.is_available() else 'cpu')\n",
    "n_epochs = 2\n",
    "print(device)"
   ]
  },
  {
   "cell_type": "markdown",
   "metadata": {},
   "source": [
    "## Training Loop"
   ]
  },
  {
   "cell_type": "code",
   "execution_count": null,
   "metadata": {},
   "outputs": [],
   "source": [
    "\n",
    "for lr in learning_rates:\n",
    "    for encoder_name in encoder_names:\n",
    "        for loss in losses:\n",
    "        ## Define setup\n",
    "            lr = lr\n",
    "            pretrained = True #False\n",
    "            model = UNet(out_channels=4,encoder_name=encoder_name,\n",
    "                            pretrained=pretrained).to(device)\n",
    "            optimizer = optim.Adam(model.parameters(), lr=lr)\n",
    "            if loss == \"CEL\":\n",
    "                criterion = nn.CrossEntropyLoss()\n",
    "                criterion_name = \"CrossEntropyLoss\"\n",
    "            elif loss == \"FC\":\n",
    "                alpha = torch.tensor([0.5, 0.5, 0.5, 0.1]).to(device) # More weight to blood_vessel, glomerulus, and unsure\n",
    "                criterion = FocalLoss(gamma=2, alpha=alpha)\n",
    "                criterion_name = \"FocalLoss\"\n",
    "\n",
    "            optimizer_name = optimizer.__class__.__name__\n",
    "            model_name = model.__class__.__name__\n",
    "\n",
    "            run_folder = create_folder()\n",
    "\n",
    "            log_specs(n_epochs=n_epochs, lr=lr, model_name=model_name,\n",
    "                    encoder_name=encoder_name, pretrained=pretrained, \n",
    "                    optimizer_name=optimizer_name, criterion_name=criterion_name,\n",
    "                    run_folder=run_folder)\n",
    "\n",
    "\n",
    "            train_losses = []\n",
    "            train_ious = []\n",
    "            val_losses = []\n",
    "            val_ious = []\n",
    "\n",
    "            for epoch in range(n_epochs):\n",
    "                model.train()\n",
    "                train_loss = 0\n",
    "                mean_iou = 0\n",
    "\n",
    "                for images, masks in train_loader:\n",
    "                    images = images.to(device)\n",
    "                    masks = torch.argmax(masks, dim=1).to(device)\n",
    "\n",
    "                    optimizer.zero_grad()\n",
    "                    outputs = model(images)\n",
    "                    loss = criterion(outputs, masks)\n",
    "\n",
    "                    preds = torch.argmax(outputs, dim=1)\n",
    "                    ious = iou_score(preds, masks)\n",
    "                    mean_iou += torch.mean(torch.tensor(ious)).item()\n",
    "\n",
    "                    loss.backward()\n",
    "                    optimizer.step()\n",
    "                    train_loss += loss.item()\n",
    "                \n",
    "                train_losses.append(train_loss / len(train_loader))\n",
    "                train_ious.append(mean_iou / len(train_loader))\n",
    "\n",
    "\n",
    "                model.eval()\n",
    "                val_loss = 0\n",
    "                mean_val_iou = 0\n",
    "\n",
    "                with torch.no_grad():\n",
    "                    for images, masks in val_loader:\n",
    "                        images = images.to(device)\n",
    "                        masks = torch.argmax(masks, dim=1).to(device)\n",
    "\n",
    "                        outputs = model(images)\n",
    "                        loss = criterion(outputs, masks)\n",
    "                        preds = torch.argmax(outputs, dim=1)\n",
    "\n",
    "                        ious = iou_score(preds, masks)\n",
    "                        mean_val_iou += torch.mean(torch.tensor(ious)).item()\n",
    "                        val_loss += loss.item()\n",
    "\n",
    "                val_losses.append(val_loss / len(val_loader))\n",
    "                val_ious.append(mean_val_iou / len(val_loader))\n",
    "\n",
    "                save_path = f'{run_folder}/model_epoch_{epoch}.pth'\n",
    "\n",
    "                torch.save({\n",
    "                    'epoch': epoch,\n",
    "                    'model_state_dict': model.state_dict(),\n",
    "                    'optimizer_state_dict': optimizer.state_dict(),\n",
    "                    'loss': loss,\n",
    "                }, save_path)\n",
    "\n",
    "            log_metrics(run_folder=run_folder, train_ious=train_ious, val_ious=val_ious, train_losses=train_losses, val_losses=val_losses)"
   ]
  },
  {
   "cell_type": "markdown",
   "metadata": {},
   "source": [
    "## Check Training logs"
   ]
  },
  {
   "cell_type": "code",
   "execution_count": null,
   "metadata": {},
   "outputs": [
    {
     "name": "stdout",
     "output_type": "stream",
     "text": [
      "\n",
      "Max Train and Validation IOUs:\n",
      "   max_train_iou  max_val_iou\n",
      "0       0.354338     0.407417\n",
      "Train IOUs:\n",
      "   train_iou\n",
      "0   0.311993\n",
      "1   0.354338\n",
      "\n",
      "Validation IOUs:\n",
      "    val_iou\n",
      "0  0.357477\n",
      "1  0.407417\n"
     ]
    }
   ],
   "source": [
    "run = \"20230818_202449\"\n",
    "# Read and print max_train_max_val.csv\n",
    "max_values_path = f'checkpoints/{run}/00_max_train_max_val.csv'\n",
    "max_values_df = pd.read_csv(max_values_path)\n",
    "print(\"\\nMax Train and Validation IOUs:\")\n",
    "print(max_values_df)\n",
    "\n",
    "# Read and print train_ious.csv\n",
    "train_ious_path = f'checkpoints/{run}/00_train_ious.csv'\n",
    "train_ious_df = pd.read_csv(train_ious_path)\n",
    "print(\"Train IOUs:\")\n",
    "print(train_ious_df)\n",
    "\n",
    "# Read and print val_ious.csv\n",
    "val_ious_path = f'checkpoints/{run}/00_val_ious.csv'\n",
    "val_ious_df = pd.read_csv(val_ious_path)\n",
    "print(\"\\nValidation IOUs:\")\n",
    "print(val_ious_df)"
   ]
  },
  {
   "cell_type": "markdown",
   "metadata": {},
   "source": [
    "## Plot Training logs"
   ]
  },
  {
   "cell_type": "code",
   "execution_count": null,
   "metadata": {},
   "outputs": [
    {
     "data": {
      "image/png": "[encoded data removed]",
      "text/plain": [
       "<Figure size 700x500 with 2 Axes>"
      ]
     },
     "metadata": {},
     "output_type": "display_data"
    }
   ],
   "source": [
    "import scienceplots as _\n",
    "\n",
    "plt.style.use({\"science\", \"nature\"})\n",
    "def read_data(run, filename):\n",
    "    path = f'checkpoints/{run}/{filename}.csv'\n",
    "    df = pd.read_csv(path)\n",
    "    return df.iloc[:, 0]\n",
    "\n",
    "# INSERT RUN NUMBER HERE\n",
    "runs = {\n",
    "    \"U-Net ResNet-18 lr=0.0005\": \"20230818_202449\",\n",
    "    \"U-Net ResNet-18 lr=0.005\": \"20230818_202449\"\n",
    "}\n",
    "\n",
    "fig, axes = plt.subplots(2, 1, figsize=(7, 5))\n",
    "\n",
    "for label, run in runs.items():\n",
    "    train_loss_df = read_data(run, '00_train_losses')\n",
    "    val_loss_df = read_data(run, '00_val_losses')\n",
    "    train_iou_df = read_data(run, '00_train_ious')\n",
    "    val_iou_df = read_data(run, '00_val_ious')\n",
    "\n",
    "    axes[0].plot(train_loss_df, label=f\"{label} - Train Loss\")\n",
    "    axes[0].plot(val_loss_df, label=f\"{label} - Validation Loss\")\n",
    "    \n",
    "    axes[1].plot(train_iou_df, label=f\"{label} - Train IoU\")\n",
    "    axes[1].plot(val_iou_df, label=f\"{label} - Validation IoU\")\n",
    "\n",
    "axes[0].set_xlabel('Epoch')\n",
    "axes[0].set_ylabel('Loss')\n",
    "axes[0].set_title('Loss Comparison')\n",
    "axes[0].legend()\n",
    "\n",
    "axes[1].set_xlabel('Epoch')\n",
    "axes[1].set_ylabel('IoU')\n",
    "axes[1].set_title('IoU Comparison')\n",
    "axes[1].legend()\n",
    "\n",
    "plt.tight_layout()\n",
    "plt.savefig('unet_loss_comparison.svg', format='svg')\n",
    "plt.show()\n"
   ]
  }
 ],
 "metadata": {
  "kernelspec": {
   "display_name": "Python 3",
   "language": "python",
   "name": "python3"
  },
  "language_info": {
   "codemirror_mode": {
    "name": "ipython",
    "version": 3
   },
   "file_extension": ".py",
   "mimetype": "text/x-python",
   "name": "python",
   "nbconvert_exporter": "python",
   "pygments_lexer": "ipython3",
   "version": "3.11.4"
  },
  "orig_nbformat": 4
 },
 "nbformat": 4,
 "nbformat_minor": 2
}
