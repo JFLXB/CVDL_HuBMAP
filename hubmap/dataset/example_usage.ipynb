{
 "cells": [
  {
   "cell_type": "code",
   "execution_count": 1,
   "metadata": {},
   "outputs": [],
   "source": [
    "from datasets import TrainDataset, ValDataset, TestDataset\n",
    "import transforms as T"
   ]
  },
  {
   "cell_type": "code",
   "execution_count": 2,
   "metadata": {},
   "outputs": [],
   "source": [
    "transforms = T.Compose([\n",
    "    T.ToTensor(mask_as_integer=True),\n",
    "    T.Resize((256, 256)),\n",
    "    T.Normalize((0.5, 0.5, 0.5), (0.5, 0.5, 0.5)) \n",
    "])"
   ]
  },
  {
   "cell_type": "code",
   "execution_count": 3,
   "metadata": {},
   "outputs": [],
   "source": [
    "train = TrainDataset('../data/', transform=transforms, with_background=True, as_id_mask=False)\n",
    "val = ValDataset('../data/', transform=transforms, with_background=True, as_id_mask=False)"
   ]
  },
  {
   "cell_type": "code",
   "execution_count": 6,
   "metadata": {},
   "outputs": [
    {
     "name": "stdout",
     "output_type": "stream",
     "text": [
      "Image Shape: torch.Size([3, 256, 256])\n",
      "Mask Shape: torch.Size([4, 256, 256])\n"
     ]
    }
   ],
   "source": [
    "print(f'Image Shape: {train[0][0].shape}')\n",
    "print(f'Mask Shape: {train[0][1].shape}')"
   ]
  },
  {
   "cell_type": "code",
   "execution_count": null,
   "metadata": {},
   "outputs": [],
   "source": [
    "train.plot_example(5)"
   ]
  }
 ],
 "metadata": {
  "kernelspec": {
   "display_name": "Python 3",
   "language": "python",
   "name": "python3"
  },
  "language_info": {
   "codemirror_mode": {
    "name": "ipython",
    "version": 3
   },
   "file_extension": ".py",
   "mimetype": "text/x-python",
   "name": "python",
   "nbconvert_exporter": "python",
   "pygments_lexer": "ipython3",
   "version": "3.10.12"
  },
  "orig_nbformat": 4
 },
 "nbformat": 4,
 "nbformat_minor": 2
}
