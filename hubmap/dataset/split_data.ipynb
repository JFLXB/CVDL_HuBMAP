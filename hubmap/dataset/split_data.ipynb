{
 "cells": [
  {
   "cell_type": "code",
   "execution_count": 25,
   "metadata": {},
   "outputs": [],
   "source": [
    "import pandas as pd\n",
    "import math\n",
    "import random\n",
    "import shutil\n",
    "import os"
   ]
  },
  {
   "cell_type": "code",
   "execution_count": 3,
   "metadata": {},
   "outputs": [],
   "source": [
    "meta_df = pd.read_csv(\"../data/tile_meta.csv\")"
   ]
  },
  {
   "cell_type": "code",
   "execution_count": 8,
   "metadata": {},
   "outputs": [],
   "source": [
    "d1_ids = meta_df.loc[meta_df[\"dataset\"] == 1][\"id\"].tolist()\n",
    "d2_ids = meta_df.loc[meta_df[\"dataset\"] == 2][\"id\"].tolist()"
   ]
  },
  {
   "cell_type": "code",
   "execution_count": 9,
   "metadata": {},
   "outputs": [
    {
     "name": "stdout",
     "output_type": "stream",
     "text": [
      "422\n",
      "1211\n"
     ]
    }
   ],
   "source": [
    "print(len(d1_ids))\n",
    "print(len(d2_ids))"
   ]
  },
  {
   "cell_type": "code",
   "execution_count": 11,
   "metadata": {},
   "outputs": [
    {
     "name": "stdout",
     "output_type": "stream",
     "text": [
      "1633\n"
     ]
    }
   ],
   "source": [
    "total_images = len(d1_ids) + len(d2_ids)\n",
    "print(total_images)"
   ]
  },
  {
   "cell_type": "code",
   "execution_count": 17,
   "metadata": {},
   "outputs": [
    {
     "name": "stdout",
     "output_type": "stream",
     "text": [
      "163\n",
      "244\n",
      "1226\n"
     ]
    }
   ],
   "source": [
    "count_test = math.floor(total_images * 0.1)\n",
    "count_val = math.floor(total_images * 0.15)\n",
    "count_train = total_images - count_test - count_val\n",
    "print(count_test)\n",
    "print(count_val)\n",
    "print(count_train)"
   ]
  },
  {
   "cell_type": "code",
   "execution_count": 26,
   "metadata": {},
   "outputs": [],
   "source": [
    "test_images = random.sample(d1_ids, count_test)"
   ]
  },
  {
   "cell_type": "code",
   "execution_count": 27,
   "metadata": {},
   "outputs": [],
   "source": [
    "d1_ids_leftover = [id for id in d1_ids if id not in test_images]\n",
    "merged_ids = d1_ids_leftover + d2_ids"
   ]
  },
  {
   "cell_type": "code",
   "execution_count": 28,
   "metadata": {},
   "outputs": [],
   "source": [
    "val_images = random.sample(merged_ids, count_val)\n",
    "train_images = [id for id in merged_ids if id not in val_images]"
   ]
  },
  {
   "cell_type": "code",
   "execution_count": 29,
   "metadata": {},
   "outputs": [
    {
     "name": "stdout",
     "output_type": "stream",
     "text": [
      "163\n",
      "244\n",
      "1226\n"
     ]
    }
   ],
   "source": [
    "print(len(test_images))\n",
    "print(len(val_images))\n",
    "print(len(train_images))"
   ]
  },
  {
   "cell_type": "code",
   "execution_count": 30,
   "metadata": {},
   "outputs": [],
   "source": [
    "src_directory = \"../data/all_images\"\n",
    "train_directory = \"../data/train\"\n",
    "test_directory = \"../data/test\"\n",
    "val_directory = \"../data/val\"\n",
    "\n",
    "os.makedirs(train_directory, exist_ok=True)\n",
    "os.makedirs(test_directory, exist_ok=True)\n",
    "os.makedirs(val_directory, exist_ok=True)"
   ]
  },
  {
   "cell_type": "code",
   "execution_count": 31,
   "metadata": {},
   "outputs": [],
   "source": [
    "def copy_images(images, dest_directory):\n",
    "    for image_id in images:\n",
    "        src_path = os.path.join(src_directory, str(image_id) + \".tif\")\n",
    "        dest_path = os.path.join(dest_directory, str(image_id) + \".tif\")\n",
    "        shutil.copy(src_path, dest_path)"
   ]
  },
  {
   "cell_type": "code",
   "execution_count": 32,
   "metadata": {},
   "outputs": [],
   "source": [
    "copy_images(train_images, train_directory)\n",
    "copy_images(test_images, test_directory)\n",
    "copy_images(val_images, val_directory)"
   ]
  },
  {
   "cell_type": "code",
   "execution_count": 36,
   "metadata": {},
   "outputs": [],
   "source": [
    "def get_ids(directory):\n",
    "    filenames = os.listdir(directory)\n",
    "    ids = [str(os.path.splitext(filename)[0]) for filename in filenames]\n",
    "    return ids"
   ]
  },
  {
   "cell_type": "code",
   "execution_count": 37,
   "metadata": {},
   "outputs": [],
   "source": [
    "train_ids = get_ids(train_directory)\n",
    "test_ids = get_ids(test_directory)\n",
    "val_ids = get_ids(val_directory)"
   ]
  },
  {
   "cell_type": "code",
   "execution_count": 40,
   "metadata": {},
   "outputs": [
    {
     "name": "stdout",
     "output_type": "stream",
     "text": [
      "1634\n",
      "1634\n"
     ]
    }
   ],
   "source": [
    "total_count = len(train_ids) + len(test_ids) + len(val_ids)\n",
    "print(total_count)\n",
    "unique_ids = set(train_ids + test_ids + val_ids)\n",
    "print(len(unique_ids))"
   ]
  }
 ],
 "metadata": {
  "kernelspec": {
   "display_name": "Python 3",
   "language": "python",
   "name": "python3"
  },
  "language_info": {
   "codemirror_mode": {
    "name": "ipython",
    "version": 3
   },
   "file_extension": ".py",
   "mimetype": "text/x-python",
   "name": "python",
   "nbconvert_exporter": "python",
   "pygments_lexer": "ipython3",
   "version": "3.10.12"
  },
  "orig_nbformat": 4
 },
 "nbformat": 4,
 "nbformat_minor": 2
}
